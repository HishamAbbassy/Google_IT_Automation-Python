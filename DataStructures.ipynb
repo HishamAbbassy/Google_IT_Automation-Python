{
 "cells": [
  {
   "cell_type": "markdown",
   "id": "dimensional-buyer",
   "metadata": {},
   "source": [
    "## Lists & Tuples & Dictionaries"
   ]
  },
  {
   "cell_type": "markdown",
   "id": "stock-private",
   "metadata": {},
   "source": [
    "### 1) "
   ]
  },
  {
   "cell_type": "markdown",
   "id": "binding-vector",
   "metadata": {},
   "source": [
    "Given a list of filenames, we want to rename all the files with extension hpp to the extension h. To do this, we would like to generate a new list called newfilenames, consisting of the new filenames"
   ]
  },
  {
   "cell_type": "code",
   "execution_count": 1,
   "id": "increased-found",
   "metadata": {},
   "outputs": [],
   "source": [
    "filenames = [\"program.c\", \"stdio.hpp\", \"sample.hpp\", \"a.out\", \"math.hpp\", \"hpp.out\"]\n",
    "# Generate newfilenames as a list containing the new filenames\n",
    "# using as many lines of code as your chosen method requires.\n",
    "newfilenames = []\n",
    "for file in filenames:\n",
    "    if file.endswith(\"hpp\"):\n",
    "        newfilenames.append(file.replace(\"hpp\",\"h\"))\n",
    "    else:\n",
    "        newfilenames.append(file)"
   ]
  },
  {
   "cell_type": "code",
   "execution_count": 2,
   "id": "chinese-daughter",
   "metadata": {},
   "outputs": [
    {
     "name": "stdout",
     "output_type": "stream",
     "text": [
      "['program.c', 'stdio.h', 'sample.h', 'a.out', 'math.h', 'hpp.out']\n"
     ]
    }
   ],
   "source": [
    "print(newfilenames) "
   ]
  },
  {
   "cell_type": "markdown",
   "id": "twenty-program",
   "metadata": {},
   "source": [
    "### 2) "
   ]
  },
  {
   "cell_type": "markdown",
   "id": "dangerous-photograph",
   "metadata": {},
   "source": [
    "create a function that turns text into pig latin: a simple text transformation that modifies each word moving the first character to the end and appending \"ay\" to the end. For example, python ends up as ythonpay."
   ]
  },
  {
   "cell_type": "code",
   "execution_count": 3,
   "id": "favorite-backing",
   "metadata": {},
   "outputs": [],
   "source": [
    "def pig_latin(text):\n",
    "    say = \" \"\n",
    "    # Separate the text into words\n",
    "    words = text.split()\n",
    "    nword = []\n",
    "    for word in words:\n",
    "        # Create the pig latin word and add it to the list\n",
    "        nword.append(word[1:] + word[0] + \"ay\")\n",
    "        # Turn the list back into a phrase\n",
    "    return say.join(nword)"
   ]
  },
  {
   "cell_type": "code",
   "execution_count": 4,
   "id": "random-comparison",
   "metadata": {},
   "outputs": [
    {
     "name": "stdout",
     "output_type": "stream",
     "text": [
      "ellohay owhay reaay ouyay\n",
      "rogrammingpay niay ythonpay siay unfay\n"
     ]
    }
   ],
   "source": [
    "print(pig_latin(\"hello how are you\")) # Should be \"ellohay owhay reaay ouyay\"\n",
    "print(pig_latin(\"programming in python is fun\")) # Should be \"rogrammingpay niay ythonpay siay unfay\""
   ]
  },
  {
   "cell_type": "markdown",
   "id": "acceptable-devon",
   "metadata": {},
   "source": [
    "### 3) "
   ]
  },
  {
   "cell_type": "markdown",
   "id": "alert-emphasis",
   "metadata": {},
   "source": [
    "The permissions of a file in a Linux system are split into three sets of three permissions: read, write, and execute for the owner, group, and others. Each of the three values can be expressed as an octal number summing each permission, with 4 corresponding to read, 2 to write, and 1 to execute. Or it can be written with a string using the letters r, w, and x or - when the permission is not granted.\n",
    "For example: \n",
    "640 is read/write for the owner, read for the group, and no permissions for the others; converted to a string, it would be: \"rw-r-----\"\n",
    "755 is read/write/execute for the owner, and read/execute for group and others; converted to a string, it would be: \"rwxr-xr-x\""
   ]
  },
  {
   "cell_type": "code",
   "execution_count": 5,
   "id": "indonesian-married",
   "metadata": {},
   "outputs": [],
   "source": [
    "def octal_to_string(octal):\n",
    "    result = \"\"\n",
    "    value_letters = [(4,\"r\"),(2,\"w\"),(1,\"x\")]\n",
    "    # Iterate over each of the digits in octal\n",
    "    for ___ in [int(n) for n in str(octal)]:\n",
    "        # Check for each of the permissions values\n",
    "        for value, letter in value_letters:\n",
    "            if ___ >= value:\n",
    "                result += letter\n",
    "                ___ -= value\n",
    "            else:\n",
    "                result += \"-\"\n",
    "    return result"
   ]
  },
  {
   "cell_type": "code",
   "execution_count": 6,
   "id": "solar-verse",
   "metadata": {},
   "outputs": [
    {
     "name": "stdout",
     "output_type": "stream",
     "text": [
      "rwxr-xr-x\n",
      "rw-r--r--\n",
      "rwxr-x---\n",
      "rw-------\n"
     ]
    }
   ],
   "source": [
    "print(octal_to_string(755)) # Should be rwxr-xr-x\n",
    "print(octal_to_string(644)) # Should be rw-r--r--\n",
    "print(octal_to_string(750)) # Should be rwxr-x---\n",
    "print(octal_to_string(600)) # Should be rw-------"
   ]
  },
  {
   "cell_type": "markdown",
   "id": "decent-explorer",
   "metadata": {},
   "source": [
    "### 4)"
   ]
  },
  {
   "cell_type": "markdown",
   "id": "interracial-indian",
   "metadata": {},
   "source": [
    "The group_list function accepts a group name and a list of members, and returns a string with the format: group_name: member1, member2, … For example, group_list(\"g\", [\"a\",\"b\",\"c\"]) returns \"g: a, b, c\". Fill in the gaps in this function to do that."
   ]
  },
  {
   "cell_type": "code",
   "execution_count": 7,
   "id": "sophisticated-vertex",
   "metadata": {},
   "outputs": [],
   "source": [
    "def group_list(group, users):\n",
    "    members = ', '.join(users)\n",
    "    return \"{}: {}\".format(group, members)"
   ]
  },
  {
   "cell_type": "code",
   "execution_count": 8,
   "id": "constant-nature",
   "metadata": {},
   "outputs": [
    {
     "name": "stdout",
     "output_type": "stream",
     "text": [
      "Marketing: Mike, Karen, Jake, Tasha\n",
      "Engineering: Kim, Jay, Tom\n",
      "Users: \n"
     ]
    }
   ],
   "source": [
    "print(group_list(\"Marketing\", [\"Mike\", \"Karen\", \"Jake\", \"Tasha\"])) # Should be \"Marketing: Mike, Karen, Jake, Tasha\"\n",
    "print(group_list(\"Engineering\", [\"Kim\", \"Jay\", \"Tom\"])) # Should be \"Engineering: Kim, Jay, Tom\"\n",
    "print(group_list(\"Users\", \"\")) # Should be \"Users:\""
   ]
  },
  {
   "cell_type": "markdown",
   "id": "thermal-element",
   "metadata": {},
   "source": [
    "### 5) "
   ]
  },
  {
   "cell_type": "markdown",
   "id": "color-cannon",
   "metadata": {},
   "source": [
    "he guest_list function reads in a list of tuples with the name, age, and profession of each party guest, and prints the sentence \"Guest is X years old and works as __.\" for each one. For example, guest_list(('Ken', 30, \"Chef\"), (\"Pat\", 35, 'Lawyer'), ('Amanda', 25, \"Engineer\")) should print out: Ken is 30 years old and works as Chef. Pat is 35 years old and works as Lawyer. Amanda is 25 years old and works as Engineer."
   ]
  },
  {
   "cell_type": "code",
   "execution_count": 9,
   "id": "normal-cinema",
   "metadata": {},
   "outputs": [],
   "source": [
    "def guest_list(guests):\n",
    "    for guest in guests:\n",
    "        name, age, job = guest[0], guest[1], guest[2]\n",
    "        print(\"{} is {} years old and works as {}\".format(name, age, job))"
   ]
  },
  {
   "cell_type": "code",
   "execution_count": 10,
   "id": "seventh-grocery",
   "metadata": {},
   "outputs": [
    {
     "name": "stdout",
     "output_type": "stream",
     "text": [
      "Ken is 30 years old and works as Chef\n",
      "Pat is 35 years old and works as Lawyer\n",
      "Amanda is 25 years old and works as Engineer\n"
     ]
    }
   ],
   "source": [
    "guest_list([('Ken', 30, \"Chef\"), (\"Pat\", 35, 'Lawyer'), ('Amanda', 25, \"Engineer\")])\n",
    "\n",
    "#Click Run to submit code\n",
    "#\"\"\"\n",
    "#Output should match:\n",
    "#Ken is 30 years old and works as Chef\n",
    "#Pat is 35 years old and works as Lawyer\n",
    "#Amanda is 25 years old and works as Engineer"
   ]
  },
  {
   "cell_type": "markdown",
   "id": "plastic-fountain",
   "metadata": {},
   "source": [
    "### 6) "
   ]
  },
  {
   "cell_type": "markdown",
   "id": "secret-salad",
   "metadata": {},
   "source": [
    "The email_list function receives a dictionary, which contains domain names as keys, and a list of users as values."
   ]
  },
  {
   "cell_type": "code",
   "execution_count": 11,
   "id": "prime-mercury",
   "metadata": {},
   "outputs": [],
   "source": [
    "def email_list(domains):\n",
    "    emails = []\n",
    "    for domain, users in domains.items():\n",
    "        for user in users:\n",
    "            emails.append(user + \"@\" + domain)\n",
    "    return(emails)"
   ]
  },
  {
   "cell_type": "code",
   "execution_count": 12,
   "id": "personal-terminal",
   "metadata": {},
   "outputs": [
    {
     "name": "stdout",
     "output_type": "stream",
     "text": [
      "['clark.kent@gmail.com', 'diana.prince@gmail.com', 'peter.parker@gmail.com', 'barbara.gordon@yahoo.com', 'jean.grey@yahoo.com', 'bruce.wayne@hotmail.com']\n"
     ]
    }
   ],
   "source": [
    "print(email_list({\"gmail.com\": [\"clark.kent\", \"diana.prince\", \"peter.parker\"]\\\n",
    "                  , \"yahoo.com\": [\"barbara.gordon\", \"jean.grey\"], \"hotmail.com\": [\"bruce.wayne\"]}))"
   ]
  },
  {
   "cell_type": "markdown",
   "id": "plastic-fiction",
   "metadata": {},
   "source": [
    " ### 7)"
   ]
  },
  {
   "cell_type": "markdown",
   "id": "challenging-yorkshire",
   "metadata": {},
   "source": [
    "The groups_per_user function receives a dictionary, which contains group names with the list of users. Users can belong to multiple groups."
   ]
  },
  {
   "cell_type": "code",
   "execution_count": 13,
   "id": "recent-walter",
   "metadata": {},
   "outputs": [],
   "source": [
    "def groups_per_user(group_dictionary):\n",
    "    user_groups = {}\n",
    "    # Go through group_dictionary\n",
    "    for group, users in group_dictionary.items():\n",
    "        # Now go through the users in the group\n",
    "        for user in users:\n",
    "            if user not in user_groups:\n",
    "                user_groups[user] = []\n",
    "            user_groups[user].append(group)\n",
    "\n",
    "    return(user_groups)"
   ]
  },
  {
   "cell_type": "code",
   "execution_count": 14,
   "id": "golden-kentucky",
   "metadata": {},
   "outputs": [
    {
     "name": "stdout",
     "output_type": "stream",
     "text": [
      "{'admin': ['local', 'public', 'administrator'], 'userA': ['local'], 'userB': ['public']}\n"
     ]
    }
   ],
   "source": [
    "print(groups_per_user({\"local\": [\"admin\", \"userA\"],\n",
    "        \"public\":  [\"admin\", \"userB\"],\n",
    "        \"administrator\": [\"admin\"] }))"
   ]
  },
  {
   "cell_type": "markdown",
   "id": "generous-postage",
   "metadata": {},
   "source": [
    "### 8)"
   ]
  },
  {
   "cell_type": "markdown",
   "id": "scientific-weight",
   "metadata": {},
   "source": [
    "The add_prices function returns the total price of all of the groceries in the  dictionary."
   ]
  },
  {
   "cell_type": "code",
   "execution_count": 15,
   "id": "still-gospel",
   "metadata": {},
   "outputs": [],
   "source": [
    "def add_prices(basket):\n",
    "    # Initialize the variable that will be used for the calculation\n",
    "    total = 0\n",
    "    # Iterate through the dictionary items\n",
    "    for price in basket.values():\n",
    "        # Add each price to the total calculation\n",
    "        # Hint: how do you access the values of\n",
    "        # dictionary items?\n",
    "        total += price\n",
    "    # Limit the return value to 2 decimal places\n",
    "    return round(total, 2)  "
   ]
  },
  {
   "cell_type": "code",
   "execution_count": 16,
   "id": "micro-spell",
   "metadata": {},
   "outputs": [
    {
     "name": "stdout",
     "output_type": "stream",
     "text": [
      "28.44\n"
     ]
    }
   ],
   "source": [
    "groceries = {\"bananas\": 1.56, \"apples\": 2.50, \"oranges\": 0.99, \"bread\": 4.59, \n",
    "    \"coffee\": 6.99, \"milk\": 3.39, \"eggs\": 2.98, \"cheese\": 5.44}\n",
    "\n",
    "print(add_prices(groceries)) # Should print 28.44"
   ]
  },
  {
   "cell_type": "markdown",
   "id": "tough-mortality",
   "metadata": {},
   "source": [
    "### 9) "
   ]
  },
  {
   "cell_type": "markdown",
   "id": "bright-conversation",
   "metadata": {},
   "source": [
    "A professor with two assistants, Jamie and Drew, wants an attendance list of the students, in the order that they arrived in the classroom. Drew was the first one to note which students arrived, and then Jamie took over. After the class, they each entered their lists into the computer and emailed them to the professor, who needs to combine them into one, in the order of each student's arrival. Jamie emailed a follow-up, saying that her list is in reverse order. Complete the steps to combine them into one list as follows: the contents of Drew's list, followed by Jamie's list in reverse order, to get an accurate list of the students as they arrived."
   ]
  },
  {
   "cell_type": "code",
   "execution_count": 28,
   "id": "transparent-arcade",
   "metadata": {},
   "outputs": [],
   "source": [
    "def combine_lists(list1, list2):\n",
    "    # Generate a new list containing the elements of list2\n",
    "    # Followed by the elements of list1 in reverse order\n",
    "    new_list = list2\n",
    "    for i in reversed(range(len(list1))):\n",
    "        new_list.append(list1[i])\n",
    "    return new_list"
   ]
  },
  {
   "cell_type": "code",
   "execution_count": 29,
   "id": "leading-light",
   "metadata": {},
   "outputs": [
    {
     "name": "stdout",
     "output_type": "stream",
     "text": [
      "['Mike', 'Carol', 'Greg', 'Marcia', 'Peter', 'Jan', 'Bobby', 'Cindy', 'Alice']\n"
     ]
    }
   ],
   "source": [
    "Jamies_list = [\"Alice\", \"Cindy\", \"Bobby\", \"Jan\", \"Peter\"]\n",
    "Drews_list = [\"Mike\", \"Carol\", \"Greg\", \"Marcia\"]\n",
    "\n",
    "print(combine_lists(Jamies_list, Drews_list))"
   ]
  },
  {
   "cell_type": "markdown",
   "id": "acquired-acoustic",
   "metadata": {},
   "source": [
    "### 10)"
   ]
  },
  {
   "cell_type": "markdown",
   "id": "universal-silver",
   "metadata": {},
   "source": [
    "Use a list comprehension to create a list of squared numbers (n*n). The function receives the variables start and end, and returns a list of squares of consecutive numbers between start and end inclusively.\n",
    "For example, squares(2, 3) should return [4, 9]."
   ]
  },
  {
   "cell_type": "code",
   "execution_count": 30,
   "id": "sufficient-nylon",
   "metadata": {},
   "outputs": [],
   "source": [
    "def squares(start, end):\n",
    "    return [ i**2 for i in range(start, end+1) ]"
   ]
  },
  {
   "cell_type": "code",
   "execution_count": 31,
   "id": "distributed-track",
   "metadata": {},
   "outputs": [
    {
     "name": "stdout",
     "output_type": "stream",
     "text": [
      "[4, 9]\n",
      "[1, 4, 9, 16, 25]\n",
      "[0, 1, 4, 9, 16, 25, 36, 49, 64, 81, 100]\n"
     ]
    }
   ],
   "source": [
    "print(squares(2, 3)) # Should be [4, 9]\n",
    "print(squares(1, 5)) # Should be [1, 4, 9, 16, 25]\n",
    "print(squares(0, 10)) # Should be [0, 1, 4, 9, 16, 25, 36, 49, 64, 81, 100]"
   ]
  },
  {
   "cell_type": "markdown",
   "id": "textile-semester",
   "metadata": {},
   "source": [
    "### 11) "
   ]
  },
  {
   "cell_type": "markdown",
   "id": "italian-pride",
   "metadata": {},
   "source": [
    "iterate through the keys and values of the car_prices dictionary, printing out some information about each one"
   ]
  },
  {
   "cell_type": "code",
   "execution_count": 32,
   "id": "personal-whale",
   "metadata": {},
   "outputs": [
    {
     "name": "stdout",
     "output_type": "stream",
     "text": [
      "Kia Soul costs 19000 dollars\n",
      "Lamborghini Diablo costs 55000 dollars\n",
      "Ford Fiesta costs 13000 dollars\n",
      "Toyota Prius costs 24000 dollars\n",
      "\n"
     ]
    }
   ],
   "source": [
    "def car_listing(car_prices):\n",
    "    result = \"\"\n",
    "    for car, price in car_prices.items():\n",
    "        result += \"{} costs {} dollars\".format(car, price) + \"\\n\"\n",
    "    return result\n",
    "\n",
    "print(car_listing({\"Kia Soul\":19000, \"Lamborghini Diablo\":55000, \"Ford Fiesta\":13000, \"Toyota Prius\":24000}))"
   ]
  },
  {
   "cell_type": "markdown",
   "id": "herbal-barrier",
   "metadata": {},
   "source": [
    "###  12)"
   ]
  },
  {
   "cell_type": "markdown",
   "id": "prime-freeware",
   "metadata": {},
   "source": [
    "Taylor and Rory are hosting a party. They sent out invitations, and each one collected responses into dictionaries, with names of their friends and how many guests each friend is bringing. Each dictionary is a partial list, but Rory's list has more current information about the number of guests. Combine both dictionaries into one, with each friend listed only once, and the number of guests from Rory's dictionary taking precedence, if a name is included in both dictionaries. Then print the resulting dictionary."
   ]
  },
  {
   "cell_type": "code",
   "execution_count": 33,
   "id": "unavailable-tissue",
   "metadata": {},
   "outputs": [],
   "source": [
    "def combine_guests(guests1, guests2):\n",
    "    # Combine both dictionaries into one, with each key listed \n",
    "    # only once, and the value from guests1 taking precedence\n",
    "    flist = guests1\n",
    "    for guest in guests2.keys():\n",
    "        if guest not in flist:\n",
    "            flist[guest] = guests2[guest]\n",
    "    return flist"
   ]
  },
  {
   "cell_type": "code",
   "execution_count": 34,
   "id": "incomplete-religion",
   "metadata": {},
   "outputs": [
    {
     "name": "stdout",
     "output_type": "stream",
     "text": [
      "{'Adam': 2, 'Brenda': 3, 'David': 1, 'Jose': 3, 'Charlotte': 2, 'Terry': 1, 'Robert': 4, 'Nancy': 1, 'Samantha': 3, 'Chris': 5}\n"
     ]
    }
   ],
   "source": [
    "Rorys_guests = { \"Adam\":2, \"Brenda\":3, \"David\":1, \"Jose\":3, \"Charlotte\":2, \"Terry\":1, \"Robert\":4}\n",
    "Taylors_guests = { \"David\":4, \"Nancy\":1, \"Robert\":2, \"Adam\":1, \"Samantha\":3, \"Chris\":5}\n",
    "\n",
    "print(combine_guests(Rorys_guests, Taylors_guests))"
   ]
  },
  {
   "cell_type": "markdown",
   "id": "christian-robertson",
   "metadata": {},
   "source": [
    "### 13)"
   ]
  },
  {
   "cell_type": "markdown",
   "id": "baking-packaging",
   "metadata": {},
   "source": [
    "Use a dictionary to count the frequency of letters in the input string. Only letters should be counted, not blank spaces, numbers, or punctuation. Upper case should be considered the same as lower case. For example, count_letters(\"This is a sentence.\") should return {'t': 2, 'h': 1, 'i': 2, 's': 3, 'a': 1, 'e': 3, 'n': 2, 'c': 1}."
   ]
  },
  {
   "cell_type": "code",
   "execution_count": 35,
   "id": "capital-israeli",
   "metadata": {},
   "outputs": [],
   "source": [
    "def count_letters(text):\n",
    "    result = {}\n",
    "    # Go through each letter in the text\n",
    "    for letter in text:\n",
    "        # Check if the letter needs to be counted or not\n",
    "        if letter.isalpha():\n",
    "            if letter.lower() not in result:\n",
    "                result[letter.lower()] = 0\n",
    "        # Add or increment the value in the dictionary\n",
    "            result[letter.lower()] += 1\n",
    "    return result"
   ]
  },
  {
   "cell_type": "code",
   "execution_count": 36,
   "id": "comprehensive-world",
   "metadata": {},
   "outputs": [
    {
     "name": "stdout",
     "output_type": "stream",
     "text": [
      "{'a': 2, 'b': 2, 'c': 2}\n"
     ]
    }
   ],
   "source": [
    "print(count_letters(\"AaBbCc\"))\n",
    "# Should be {'a': 2, 'b': 2, 'c': 2}"
   ]
  },
  {
   "cell_type": "code",
   "execution_count": 37,
   "id": "considered-mistress",
   "metadata": {},
   "outputs": [
    {
     "name": "stdout",
     "output_type": "stream",
     "text": [
      "{'m': 1, 'a': 1, 't': 1, 'h': 1, 'i': 1, 's': 1, 'f': 1, 'u': 1, 'n': 1}\n"
     ]
    }
   ],
   "source": [
    "print(count_letters(\"Math is fun! 2+2=4\"))\n",
    "# Should be {'m': 1, 'a': 1, 't': 1, 'h': 1, 'i': 1, 's': 1, 'f': 1, 'u': 1, 'n': 1}"
   ]
  },
  {
   "cell_type": "code",
   "execution_count": 38,
   "id": "intense-relative",
   "metadata": {},
   "outputs": [
    {
     "name": "stdout",
     "output_type": "stream",
     "text": [
      "{'t': 2, 'h': 1, 'i': 2, 's': 3, 'a': 1, 'e': 3, 'n': 2, 'c': 1}\n"
     ]
    }
   ],
   "source": [
    "print(count_letters(\"This is a sentence.\"))\n",
    "# Should be {'t': 2, 'h': 1, 'i': 2, 's': 3, 'a': 1, 'e': 3, 'n': 2, 'c': 1}"
   ]
  },
  {
   "cell_type": "code",
   "execution_count": null,
   "id": "played-effect",
   "metadata": {},
   "outputs": [],
   "source": []
  }
 ],
 "metadata": {
  "kernelspec": {
   "display_name": "Python 3",
   "language": "python",
   "name": "python3"
  },
  "language_info": {
   "codemirror_mode": {
    "name": "ipython",
    "version": 3
   },
   "file_extension": ".py",
   "mimetype": "text/x-python",
   "name": "python",
   "nbconvert_exporter": "python",
   "pygments_lexer": "ipython3",
   "version": "3.7.9"
  }
 },
 "nbformat": 4,
 "nbformat_minor": 5
}
