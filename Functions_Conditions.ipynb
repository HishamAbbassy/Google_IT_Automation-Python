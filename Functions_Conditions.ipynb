{
 "cells": [
  {
   "cell_type": "markdown",
   "id": "technical-artist",
   "metadata": {},
   "source": [
    "# Functions"
   ]
  },
  {
   "cell_type": "markdown",
   "id": "median-chamber",
   "metadata": {},
   "source": [
    "### 1) "
   ]
  },
  {
   "cell_type": "markdown",
   "id": "royal-breast",
   "metadata": {},
   "source": [
    "This function converts miles to kilometers (km)."
   ]
  },
  {
   "cell_type": "code",
   "execution_count": 1,
   "id": "arbitrary-service",
   "metadata": {},
   "outputs": [],
   "source": [
    "def convert_distance(miles):\n",
    "    km = miles * 1.6  # approximately 1.6 km in 1 mile\n",
    "    return km"
   ]
  },
  {
   "cell_type": "code",
   "execution_count": 2,
   "id": "sophisticated-qatar",
   "metadata": {},
   "outputs": [
    {
     "name": "stdout",
     "output_type": "stream",
     "text": [
      "The distance in kilometers is 88.0\n"
     ]
    }
   ],
   "source": [
    "my_trip_miles = 55\n",
    "\n",
    "my_trip_km = convert_distance(my_trip_miles)\n",
    "print(\"The distance in kilometers is \" + str(my_trip_km))"
   ]
  },
  {
   "cell_type": "code",
   "execution_count": 3,
   "id": "threaded-courage",
   "metadata": {},
   "outputs": [
    {
     "name": "stdout",
     "output_type": "stream",
     "text": [
      "The round-trip in kilometers is 176.0\n"
     ]
    }
   ],
   "source": [
    "print(\"The round-trip in kilometers is \" + str(2 * my_trip_km))"
   ]
  },
  {
   "cell_type": "markdown",
   "id": "familiar-arizona",
   "metadata": {},
   "source": [
    "### 2) "
   ]
  },
  {
   "cell_type": "markdown",
   "id": "lucky-stock",
   "metadata": {},
   "source": [
    "This function compares two numbers and returns them in increasing order."
   ]
  },
  {
   "cell_type": "code",
   "execution_count": 4,
   "id": "metallic-cycling",
   "metadata": {},
   "outputs": [],
   "source": [
    "def order_numbers(number1, number2):\n",
    "    if number2 > number1:\n",
    "        return number1, number2\n",
    "    else:\n",
    "        return number2, number1"
   ]
  },
  {
   "cell_type": "code",
   "execution_count": 5,
   "id": "hidden-iraqi",
   "metadata": {},
   "outputs": [
    {
     "name": "stdout",
     "output_type": "stream",
     "text": [
      "99 100\n"
     ]
    }
   ],
   "source": [
    "smaller, bigger = order_numbers(100, 99)\n",
    "print(smaller, bigger)"
   ]
  },
  {
   "cell_type": "markdown",
   "id": "widespread-drill",
   "metadata": {},
   "source": [
    "### 3) "
   ]
  },
  {
   "cell_type": "markdown",
   "id": "mineral-vatican",
   "metadata": {},
   "source": [
    "Let's revisit our lucky_number function. We want to change it, so that instead of printing the message, it returns the message. This way, the calling line can print the message, or do something else with it if needed. Fill in the blanks to complete the code to make it work."
   ]
  },
  {
   "cell_type": "code",
   "execution_count": 6,
   "id": "enormous-rehabilitation",
   "metadata": {},
   "outputs": [],
   "source": [
    "def lucky_number(name):\n",
    "    number = len(name) * 9\n",
    "    msg = \"Hello \" + name + \". Your lucky number is \" + str(number)\n",
    "    return msg"
   ]
  },
  {
   "cell_type": "code",
   "execution_count": 7,
   "id": "minus-hearts",
   "metadata": {},
   "outputs": [
    {
     "name": "stdout",
     "output_type": "stream",
     "text": [
      "Hello Kay. Your lucky number is 27\n",
      "Hello Cameron. Your lucky number is 63\n"
     ]
    }
   ],
   "source": [
    "print(lucky_number(\"Kay\"))\n",
    "print(lucky_number(\"Cameron\"))"
   ]
  },
  {
   "cell_type": "markdown",
   "id": "sustained-mystery",
   "metadata": {},
   "source": [
    "# Conditionals "
   ]
  },
  {
   "cell_type": "markdown",
   "id": "shared-copper",
   "metadata": {},
   "source": [
    "### 1)"
   ]
  },
  {
   "cell_type": "markdown",
   "id": "public-refrigerator",
   "metadata": {},
   "source": [
    "The function receives a name, then returns a greeting based on whether or not that name is \"Taylor\""
   ]
  },
  {
   "cell_type": "code",
   "execution_count": 8,
   "id": "atmospheric-coating",
   "metadata": {},
   "outputs": [],
   "source": [
    "def greeting(name):\n",
    "    if name == \"Taylor\":\n",
    "        return \"Welcome back Taylor!\"\n",
    "    else:\n",
    "        return \"Hello there, \" + name"
   ]
  },
  {
   "cell_type": "code",
   "execution_count": 9,
   "id": "geographic-picnic",
   "metadata": {},
   "outputs": [
    {
     "name": "stdout",
     "output_type": "stream",
     "text": [
      "Welcome back Taylor!\n",
      "Hello there, John\n"
     ]
    }
   ],
   "source": [
    "print(greeting(\"Taylor\"))\n",
    "print(greeting(\"John\"))"
   ]
  },
  {
   "cell_type": "markdown",
   "id": "official-lounge",
   "metadata": {},
   "source": [
    "### 2) "
   ]
  },
  {
   "cell_type": "markdown",
   "id": "anticipated-freight",
   "metadata": {},
   "source": [
    "If a filesystem has a block size of 4096 bytes, this means that a file comprised of only one byte will still use 4096 bytes of storage. A file made up of 4097 bytes will use 4096*2=8192 bytes of storage."
   ]
  },
  {
   "cell_type": "code",
   "execution_count": 10,
   "id": "worthy-foster",
   "metadata": {},
   "outputs": [],
   "source": [
    "def calculate_storage(filesize):\n",
    "    block_size = 4096\n",
    "    # Use floor division to calculate how many blocks are fully occupied\n",
    "    full_blocks = filesize // block_size\n",
    "    # Use the modulo operator to check whether there's any remainder\n",
    "    partial_block_remainder = filesize % block_size\n",
    "    # Depending on whether there's a remainder or not, return\n",
    "    # the total number of bytes required to allocate enough blocks\n",
    "    # to store your data.\n",
    "    if partial_block_remainder > 0:\n",
    "        return full_blocks*4096 + 4096\n",
    "    return block_size"
   ]
  },
  {
   "cell_type": "code",
   "execution_count": 11,
   "id": "urban-ideal",
   "metadata": {},
   "outputs": [
    {
     "name": "stdout",
     "output_type": "stream",
     "text": [
      "4096\n",
      "4096\n",
      "8192\n"
     ]
    }
   ],
   "source": [
    "print(calculate_storage(1))    # Should be 4096\n",
    "print(calculate_storage(4096)) # Should be 4096\n",
    "print(calculate_storage(4097)) # Should be 8192"
   ]
  },
  {
   "cell_type": "markdown",
   "id": "equal-chrome",
   "metadata": {},
   "source": [
    "### 3) "
   ]
  },
  {
   "cell_type": "markdown",
   "id": "improving-payroll",
   "metadata": {},
   "source": [
    "The color_translator function receives the name of a color, then prints its hexadecimal value. Currently, it only supports the three additive primary colors (red, green, blue), so it returns \"unknown\" for all other colors."
   ]
  },
  {
   "cell_type": "code",
   "execution_count": 12,
   "id": "disciplinary-bottle",
   "metadata": {},
   "outputs": [],
   "source": [
    "def color_translator(color):\n",
    "    if color == \"red\":\n",
    "        hex_color = \"#ff0000\"\n",
    "    elif color == \"green\":\n",
    "        hex_color = \"#00ff00\"\n",
    "    elif color == \"blue\":\n",
    "        hex_color = \"#0000ff\"\n",
    "    else:\n",
    "        hex_color = \"unknown\"\n",
    "    return hex_color"
   ]
  },
  {
   "cell_type": "code",
   "execution_count": 13,
   "id": "automated-joining",
   "metadata": {},
   "outputs": [
    {
     "name": "stdout",
     "output_type": "stream",
     "text": [
      "#0000ff\n",
      "unknown\n",
      "#ff0000\n",
      "unknown\n",
      "#00ff00\n",
      "unknown\n"
     ]
    }
   ],
   "source": [
    "print(color_translator(\"blue\")) # Should be #0000ff\n",
    "print(color_translator(\"yellow\")) # Should be unknown\n",
    "print(color_translator(\"red\")) # Should be #ff0000\n",
    "print(color_translator(\"black\")) # Should be unknown\n",
    "print(color_translator(\"green\")) # Should be #00ff00\n",
    "print(color_translator(\"\")) # Should be unknown"
   ]
  },
  {
   "cell_type": "markdown",
   "id": "atlantic-thriller",
   "metadata": {},
   "source": [
    "### 4) "
   ]
  },
  {
   "cell_type": "markdown",
   "id": "expired-huntington",
   "metadata": {},
   "source": [
    "Students in a class receive their grades as Pass/Fail. Scores of 60 or more (out of 100) mean that the grade is \"Pass\". For lower scores, the grade is \"Fail\". In addition, scores above 95 (not included) are graded as \"Top Score\"."
   ]
  },
  {
   "cell_type": "code",
   "execution_count": 14,
   "id": "plain-doctrine",
   "metadata": {},
   "outputs": [],
   "source": [
    "def exam_grade(score):\n",
    "    if score > 95:\n",
    "        grade = \"Top Score\"\n",
    "    elif score >= 60:\n",
    "        grade = \"Pass\"\n",
    "    else:\n",
    "        grade = \"Fail\"\n",
    "    return grade"
   ]
  },
  {
   "cell_type": "code",
   "execution_count": 15,
   "id": "wooden-disclaimer",
   "metadata": {},
   "outputs": [
    {
     "name": "stdout",
     "output_type": "stream",
     "text": [
      "Pass\n",
      "Fail\n",
      "Pass\n",
      "Pass\n",
      "Top Score\n",
      "Fail\n"
     ]
    }
   ],
   "source": [
    "print(exam_grade(65)) # Should be Pass\n",
    "print(exam_grade(55)) # Should be Fail\n",
    "print(exam_grade(60)) # Should be Pass\n",
    "print(exam_grade(95)) # Should be Pass\n",
    "print(exam_grade(100)) # Should be Top Score\n",
    "print(exam_grade(0)) # Should be Fail"
   ]
  },
  {
   "cell_type": "markdown",
   "id": "naughty-average",
   "metadata": {},
   "source": [
    "### 5) "
   ]
  },
  {
   "cell_type": "code",
   "execution_count": 16,
   "id": "ecological-mistake",
   "metadata": {},
   "outputs": [],
   "source": [
    "def format_name(first_name, last_name):\n",
    "    if first_name == \"\" and last_name == \"\":\n",
    "        string = \"\"\n",
    "\n",
    "    elif first_name != \"\" and last_name != \"\":\n",
    "        string =\"Name: \" + last_name + \", \" + first_name\n",
    "\n",
    "    elif first_name == \"\" or last_name == \"\":\n",
    "        string = \"Name: \" + last_name + first_name \n",
    "\n",
    "    return string "
   ]
  },
  {
   "cell_type": "code",
   "execution_count": 17,
   "id": "unique-thesaurus",
   "metadata": {},
   "outputs": [
    {
     "name": "stdout",
     "output_type": "stream",
     "text": [
      "Name: Hemingway, Ernest\n",
      "Name: Madonna\n",
      "Name: Voltaire\n",
      "\n"
     ]
    }
   ],
   "source": [
    "print(format_name(\"Ernest\", \"Hemingway\"))\n",
    "# Should return the string \"Name: Hemingway, Ernest\"\n",
    "\n",
    "print(format_name(\"\", \"Madonna\"))\n",
    "# Should return the string \"Name: Madonna\"\n",
    "\n",
    "print(format_name(\"Voltaire\", \"\"))\n",
    "# Should return the string \"Name: Voltaire\"\n",
    "\n",
    "print(format_name(\"\", \"\"))\n",
    "# Should return an empty string"
   ]
  },
  {
   "cell_type": "markdown",
   "id": "detected-gauge",
   "metadata": {},
   "source": [
    "### 6)  "
   ]
  },
  {
   "cell_type": "markdown",
   "id": "secret-wireless",
   "metadata": {},
   "source": [
    "The longest_word function is used to compare 3 words. It should return the word with the most number of characters (and the first in the list when they have the same length)."
   ]
  },
  {
   "cell_type": "code",
   "execution_count": 18,
   "id": "compatible-albania",
   "metadata": {},
   "outputs": [],
   "source": [
    "def longest_word(word1, word2, word3):\n",
    "    if len(word1) >= len(word2) and len(word1) >= len(word3):\n",
    "        word = word1\n",
    "    elif len(word2) >= len(word1) and len(word2) >= len(word3):\n",
    "        word = word2\n",
    "    else:\n",
    "        word = word3\n",
    "    return(word)"
   ]
  },
  {
   "cell_type": "code",
   "execution_count": 19,
   "id": "instrumental-lending",
   "metadata": {},
   "outputs": [
    {
     "name": "stdout",
     "output_type": "stream",
     "text": [
      "chair\n",
      "beyond\n",
      "notebook\n"
     ]
    }
   ],
   "source": [
    "print(longest_word(\"chair\", \"couch\", \"table\"))\n",
    "print(longest_word(\"bed\", \"bath\", \"beyond\"))\n",
    "print(longest_word(\"laptop\", \"notebook\", \"desktop\"))"
   ]
  },
  {
   "cell_type": "markdown",
   "id": "centered-windsor",
   "metadata": {},
   "source": [
    "### 7)"
   ]
  },
  {
   "cell_type": "markdown",
   "id": "proper-blowing",
   "metadata": {},
   "source": [
    "The fractional_part function divides the numerator by the denominator, and returns just the fractional part (a number between 0 and 1).\n",
    "Note: Since division by 0 produces an error, if the denominator is 0, the function should return 0 instead of attempting the division."
   ]
  },
  {
   "cell_type": "code",
   "execution_count": 20,
   "id": "seven-projector",
   "metadata": {},
   "outputs": [],
   "source": [
    "def fractional_part(numerator, denominator):\n",
    "# keep just the fractional part of the quotient\n",
    "    if denominator == 0:\n",
    "        return 0\n",
    "    else:\n",
    "        rest = numerator % denominator \n",
    "        return rest / denominator"
   ]
  },
  {
   "cell_type": "code",
   "execution_count": 21,
   "id": "metric-consciousness",
   "metadata": {},
   "outputs": [
    {
     "name": "stdout",
     "output_type": "stream",
     "text": [
      "0.0\n",
      "0.25\n",
      "0.6666666666666666\n",
      "0.5\n",
      "0\n",
      "0.0\n"
     ]
    }
   ],
   "source": [
    "print(fractional_part(5, 5)) # Should be 0\n",
    "print(fractional_part(5, 4)) # Should be 0.25\n",
    "print(fractional_part(5, 3)) # Should be 0.66...\n",
    "print(fractional_part(5, 2)) # Should be 0.5\n",
    "print(fractional_part(5, 0)) # Should be 0\n",
    "print(fractional_part(0, 5)) # Should be 0"
   ]
  },
  {
   "cell_type": "code",
   "execution_count": null,
   "id": "appreciated-clearance",
   "metadata": {},
   "outputs": [],
   "source": []
  }
 ],
 "metadata": {
  "kernelspec": {
   "display_name": "Python 3",
   "language": "python",
   "name": "python3"
  },
  "language_info": {
   "codemirror_mode": {
    "name": "ipython",
    "version": 3
   },
   "file_extension": ".py",
   "mimetype": "text/x-python",
   "name": "python",
   "nbconvert_exporter": "python",
   "pygments_lexer": "ipython3",
   "version": "3.7.9"
  }
 },
 "nbformat": 4,
 "nbformat_minor": 5
}
