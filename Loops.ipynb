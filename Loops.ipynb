{
 "cells": [
  {
   "cell_type": "markdown",
   "id": "secret-expert",
   "metadata": {},
   "source": [
    "# Loops "
   ]
  },
  {
   "cell_type": "markdown",
   "id": "center-twenty",
   "metadata": {},
   "source": [
    "### 1) "
   ]
  },
  {
   "cell_type": "markdown",
   "id": "rough-watch",
   "metadata": {},
   "source": [
    "print_prime_factors function print all the prime factors of a number. A prime factor is a number that is prime and divides another without a remainder."
   ]
  },
  {
   "cell_type": "code",
   "execution_count": 1,
   "id": "broadband-stone",
   "metadata": {},
   "outputs": [],
   "source": [
    "def print_prime_factors(number):\n",
    "    # Start with two, which is the first prime\n",
    "    factor = 2\n",
    "    # Keep going until the factor is larger than the number\n",
    "    while factor <= number:\n",
    "        # Check if factor is a divisor of number\n",
    "        if number % factor == 0:\n",
    "            # If it is, print it and divide the original number\n",
    "            print(factor)\n",
    "            number = number / factor\n",
    "        else:\n",
    "            # If it's not, increment the factor by one\n",
    "            factor +=1\n",
    "    return \"Done\""
   ]
  },
  {
   "cell_type": "code",
   "execution_count": 2,
   "id": "verified-yield",
   "metadata": {},
   "outputs": [
    {
     "name": "stdout",
     "output_type": "stream",
     "text": [
      "2\n",
      "2\n",
      "5\n",
      "5\n"
     ]
    },
    {
     "data": {
      "text/plain": [
       "'Done'"
      ]
     },
     "execution_count": 2,
     "metadata": {},
     "output_type": "execute_result"
    }
   ],
   "source": [
    "print_prime_factors(100)\n",
    "# Should print 2,2,5,5"
   ]
  },
  {
   "cell_type": "markdown",
   "id": "tribal-crawford",
   "metadata": {},
   "source": [
    "### 2) "
   ]
  },
  {
   "cell_type": "markdown",
   "id": "vocal-connecticut",
   "metadata": {},
   "source": [
    "The following code can lead to an infinite loop. Fix the code so that it can finish successfully for all numbers.\n",
    "\n",
    "Note: Try running your function with the number 0 as the input, and see what you get!"
   ]
  },
  {
   "cell_type": "code",
   "execution_count": 3,
   "id": "victorian-restoration",
   "metadata": {},
   "outputs": [],
   "source": [
    "def is_power_of_two(n):\n",
    "    # Check if the number can be divided by two without a remainder\n",
    "    while n % 2 == 0 and n !=0:\n",
    "        n = n / 2\n",
    "    # If after dividing by two the number is 1, it's a power of two\n",
    "    if n == 1:\n",
    "        return True\n",
    "    return False"
   ]
  },
  {
   "cell_type": "code",
   "execution_count": 4,
   "id": "raised-techno",
   "metadata": {},
   "outputs": [
    {
     "name": "stdout",
     "output_type": "stream",
     "text": [
      "False\n",
      "True\n",
      "True\n",
      "False\n"
     ]
    }
   ],
   "source": [
    "print(is_power_of_two(0)) # Should be False\n",
    "print(is_power_of_two(1)) # Should be True\n",
    "print(is_power_of_two(8)) # Should be True\n",
    "print(is_power_of_two(9)) # Should be False"
   ]
  },
  {
   "cell_type": "markdown",
   "id": "automated-tradition",
   "metadata": {},
   "source": [
    "### 3)"
   ]
  },
  {
   "cell_type": "markdown",
   "id": "elect-suicide",
   "metadata": {},
   "source": [
    "Fill in the empty function so that it returns the sum of all the divisors of a number, without including it. A divisor is a number that divides into another without a remainder."
   ]
  },
  {
   "cell_type": "code",
   "execution_count": 5,
   "id": "auburn-subcommittee",
   "metadata": {},
   "outputs": [],
   "source": [
    "def sum_divisors(n):\n",
    "    sum = 0\n",
    "    for i in range(1, n):\n",
    "        while n%i == 0 and n != 0:\n",
    "            sum = sum + i\n",
    "            break\n",
    "    return sum"
   ]
  },
  {
   "cell_type": "code",
   "execution_count": 6,
   "id": "atlantic-intake",
   "metadata": {},
   "outputs": [
    {
     "name": "stdout",
     "output_type": "stream",
     "text": [
      "0\n",
      "1\n",
      "55\n",
      "114\n"
     ]
    }
   ],
   "source": [
    "print(sum_divisors(0))\n",
    "# 0\n",
    "print(sum_divisors(3)) # Should sum of 1\n",
    "# 1\n",
    "print(sum_divisors(36)) # Should sum of 1+2+3+4+6+9+12+18\n",
    "# 55\n",
    "print(sum_divisors(102)) # Should be sum of 2+3+6+17+34+51\n",
    "# 114"
   ]
  },
  {
   "cell_type": "markdown",
   "id": "aware-marijuana",
   "metadata": {},
   "source": [
    "### 4) "
   ]
  },
  {
   "cell_type": "markdown",
   "id": "recovered-baltimore",
   "metadata": {},
   "source": [
    "The multiplication_table function prints the results of a number passed to it multiplied by 1 through 5. An additional requirement is that the result is not to exceed 25."
   ]
  },
  {
   "cell_type": "code",
   "execution_count": 7,
   "id": "thousand-error",
   "metadata": {},
   "outputs": [],
   "source": [
    "def multiplication_table(number):\n",
    "    # Initialize the starting point of the multiplication table\n",
    "    multiplier = 1\n",
    "    # Only want to loop through 5\n",
    "    while multiplier <= 5:\n",
    "        result = multiplier * number\n",
    "        # What is the additional condition to exit out of the loop?\n",
    "        if result > 25 :\n",
    "            break\n",
    "        print(str(number) + \"x\" + str(multiplier) + \"=\" + str(result))\n",
    "        # Increment the variable for the loop\n",
    "        multiplier += 1"
   ]
  },
  {
   "cell_type": "code",
   "execution_count": 8,
   "id": "painful-moore",
   "metadata": {},
   "outputs": [
    {
     "name": "stdout",
     "output_type": "stream",
     "text": [
      "3x1=3\n",
      "3x2=6\n",
      "3x3=9\n",
      "3x4=12\n",
      "3x5=15\n"
     ]
    }
   ],
   "source": [
    "multiplication_table(3) \n",
    "# Should print: 3x1=3 3x2=6 3x3=9 3x4=12 3x5=15"
   ]
  },
  {
   "cell_type": "code",
   "execution_count": 9,
   "id": "facial-corruption",
   "metadata": {},
   "outputs": [
    {
     "name": "stdout",
     "output_type": "stream",
     "text": [
      "5x1=5\n",
      "5x2=10\n",
      "5x3=15\n",
      "5x4=20\n",
      "5x5=25\n"
     ]
    }
   ],
   "source": [
    "multiplication_table(5) \n",
    "# Should print: 5x1=5 5x2=10 5x3=15 5x4=20 5x5=25"
   ]
  },
  {
   "cell_type": "code",
   "execution_count": 10,
   "id": "pursuant-destiny",
   "metadata": {},
   "outputs": [
    {
     "name": "stdout",
     "output_type": "stream",
     "text": [
      "8x1=8\n",
      "8x2=16\n",
      "8x3=24\n"
     ]
    }
   ],
   "source": [
    "multiplication_table(8)\t\n",
    "# Should print: 8x1=8 8x2=16 8x3=24"
   ]
  },
  {
   "cell_type": "markdown",
   "id": "adjustable-editing",
   "metadata": {},
   "source": [
    "### 5) "
   ]
  },
  {
   "cell_type": "markdown",
   "id": "material-estimate",
   "metadata": {},
   "source": [
    "The factorial function return the factorial of n. Then, print the first 10 factorials (from 0 to 9) with the corresponding number."
   ]
  },
  {
   "cell_type": "code",
   "execution_count": 11,
   "id": "appointed-mixture",
   "metadata": {},
   "outputs": [],
   "source": [
    "def factorial(n):\n",
    "    result = 1\n",
    "    for x in range(1,n+1):\n",
    "        result = result * x\n",
    "    return result"
   ]
  },
  {
   "cell_type": "code",
   "execution_count": 12,
   "id": "genetic-associate",
   "metadata": {},
   "outputs": [
    {
     "name": "stdout",
     "output_type": "stream",
     "text": [
      "0 1\n",
      "1 1\n",
      "2 2\n",
      "3 6\n",
      "4 24\n",
      "5 120\n",
      "6 720\n",
      "7 5040\n",
      "8 40320\n",
      "9 362880\n"
     ]
    }
   ],
   "source": [
    "for n in range(0,10):\n",
    "    print(n, factorial(n))"
   ]
  },
  {
   "cell_type": "markdown",
   "id": "elect-productivity",
   "metadata": {},
   "source": [
    "### 6) "
   ]
  },
  {
   "cell_type": "markdown",
   "id": "affecting-alarm",
   "metadata": {},
   "source": [
    "Write a script that prints the multiples of 7 between 0 and 100. Print one multiple per line and avoid printing any numbers that aren't multiples of 7."
   ]
  },
  {
   "cell_type": "code",
   "execution_count": 13,
   "id": "australian-petite",
   "metadata": {},
   "outputs": [
    {
     "name": "stdout",
     "output_type": "stream",
     "text": [
      "0\n",
      "7\n",
      "14\n",
      "21\n",
      "28\n",
      "35\n",
      "42\n",
      "49\n",
      "56\n",
      "63\n",
      "70\n",
      "77\n",
      "84\n",
      "91\n",
      "98\n"
     ]
    }
   ],
   "source": [
    "n = 0\n",
    "while n <= 100:\n",
    "    if n == 0 or n % 7 == 0:\n",
    "        print (n)\n",
    "    #elif n % 7 == 0:\n",
    "        #print(n)\n",
    "    n += 1"
   ]
  },
  {
   "cell_type": "markdown",
   "id": "subsequent-bridges",
   "metadata": {},
   "source": [
    "### 7) "
   ]
  },
  {
   "cell_type": "markdown",
   "id": "australian-theme",
   "metadata": {},
   "source": [
    "The show_letters function should print out each letter of a word on a separate line"
   ]
  },
  {
   "cell_type": "code",
   "execution_count": 14,
   "id": "injured-acting",
   "metadata": {},
   "outputs": [],
   "source": [
    "def show_letters(word):\n",
    "    for l in word:\n",
    "        print(l)"
   ]
  },
  {
   "cell_type": "code",
   "execution_count": 15,
   "id": "inappropriate-pontiac",
   "metadata": {},
   "outputs": [
    {
     "name": "stdout",
     "output_type": "stream",
     "text": [
      "H\n",
      "e\n",
      "l\n",
      "l\n",
      "o\n"
     ]
    }
   ],
   "source": [
    "show_letters(\"Hello\")"
   ]
  },
  {
   "cell_type": "markdown",
   "id": "federal-physics",
   "metadata": {},
   "source": [
    "### 8) "
   ]
  },
  {
   "cell_type": "markdown",
   "id": "rotary-green",
   "metadata": {},
   "source": [
    "The function digits(n) returns how many digits the number has. For example: 25 has 2 digits and 144 has 3 digits."
   ]
  },
  {
   "cell_type": "code",
   "execution_count": 16,
   "id": "static-somalia",
   "metadata": {},
   "outputs": [],
   "source": [
    "def digits(n):\n",
    "    count = 0\n",
    "    if n == 0:\n",
    "        count = 1\n",
    "    while (n%10 != 0 or n//10 >0):\n",
    "        count += 1\n",
    "        n = n // 10\n",
    "    return count"
   ]
  },
  {
   "cell_type": "code",
   "execution_count": 17,
   "id": "healthy-tomato",
   "metadata": {},
   "outputs": [
    {
     "name": "stdout",
     "output_type": "stream",
     "text": [
      "2\n",
      "3\n",
      "4\n",
      "1\n"
     ]
    }
   ],
   "source": [
    "print(digits(25))   # Should print 2\n",
    "print(digits(144))  # Should print 3\n",
    "print(digits(1000)) # Should print 4\n",
    "print(digits(0))    # Should print 1"
   ]
  },
  {
   "cell_type": "markdown",
   "id": "demographic-annex",
   "metadata": {},
   "source": [
    "### 9) "
   ]
  },
  {
   "cell_type": "markdown",
   "id": "optional-prague",
   "metadata": {},
   "source": [
    "The counter function counts down from start to stop when start is bigger than stop, and counts up from start to stop otherwise."
   ]
  },
  {
   "cell_type": "code",
   "execution_count": 18,
   "id": "lesser-fiber",
   "metadata": {},
   "outputs": [],
   "source": [
    "def counter(start, stop):\n",
    "    x = start\n",
    "    if x > stop:\n",
    "        return_string = \"Counting down: \"\n",
    "        while x >= stop:\n",
    "            return_string += str(x)\n",
    "            if x!= stop:\n",
    "                return_string += \",\"\n",
    "            x -= 1\n",
    "    else:\n",
    "        return_string = \"Counting up: \"\n",
    "        while x <= stop:\n",
    "            return_string += str(x)\n",
    "            if x!= stop:\n",
    "                return_string += \",\"\n",
    "            x += 1\n",
    "    return return_string"
   ]
  },
  {
   "cell_type": "code",
   "execution_count": 19,
   "id": "considerable-leader",
   "metadata": {},
   "outputs": [
    {
     "name": "stdout",
     "output_type": "stream",
     "text": [
      "Counting up: 1,2,3,4,5,6,7,8,9,10\n"
     ]
    }
   ],
   "source": [
    "print(counter(1, 10)) # Should be \"Counting up: 1,2,3,4,5,6,7,8,9,10\""
   ]
  },
  {
   "cell_type": "code",
   "execution_count": 20,
   "id": "asian-program",
   "metadata": {},
   "outputs": [
    {
     "name": "stdout",
     "output_type": "stream",
     "text": [
      "Counting down: 2,1\n"
     ]
    }
   ],
   "source": [
    "print(counter(2, 1)) # Should be \"Counting down: 2,1\""
   ]
  },
  {
   "cell_type": "code",
   "execution_count": 21,
   "id": "manual-albuquerque",
   "metadata": {},
   "outputs": [
    {
     "name": "stdout",
     "output_type": "stream",
     "text": [
      "Counting up: 5\n"
     ]
    }
   ],
   "source": [
    "print(counter(5, 5)) # Should be \"Counting up: 5\""
   ]
  },
  {
   "cell_type": "markdown",
   "id": "major-exploration",
   "metadata": {},
   "source": [
    "### 10) "
   ]
  },
  {
   "cell_type": "markdown",
   "id": "dated-phase",
   "metadata": {},
   "source": [
    "The even_numbers function returns a space-separated string of all positive numbers that are divisible by 2, up to and including the maximum that's passed into the function. For example, even_numbers(6) returns “2 4 6”"
   ]
  },
  {
   "cell_type": "code",
   "execution_count": 22,
   "id": "thick-sister",
   "metadata": {},
   "outputs": [],
   "source": [
    "def even_numbers(maximum):\n",
    "    return_string = \"\"\n",
    "    for x in range(1, maximum+1):\n",
    "        if x%2 ==0:\n",
    "            return_string += str(x) + \" \"\n",
    "    return return_string.strip()"
   ]
  },
  {
   "cell_type": "code",
   "execution_count": 23,
   "id": "subsequent-table",
   "metadata": {},
   "outputs": [
    {
     "name": "stdout",
     "output_type": "stream",
     "text": [
      "2 4 6\n"
     ]
    }
   ],
   "source": [
    "print(even_numbers(6))  # Should be 2 4 6"
   ]
  },
  {
   "cell_type": "code",
   "execution_count": 24,
   "id": "surgical-religious",
   "metadata": {},
   "outputs": [
    {
     "name": "stdout",
     "output_type": "stream",
     "text": [
      "2 4 6 8 10\n"
     ]
    }
   ],
   "source": [
    "print(even_numbers(10)) # Should be 2 4 6 8 10"
   ]
  },
  {
   "cell_type": "code",
   "execution_count": 25,
   "id": "metric-western",
   "metadata": {},
   "outputs": [
    {
     "name": "stdout",
     "output_type": "stream",
     "text": [
      "2\n"
     ]
    }
   ],
   "source": [
    "print(even_numbers(3))  # Should be 2"
   ]
  },
  {
   "cell_type": "code",
   "execution_count": null,
   "id": "acute-broadcast",
   "metadata": {},
   "outputs": [],
   "source": []
  }
 ],
 "metadata": {
  "kernelspec": {
   "display_name": "Python 3",
   "language": "python",
   "name": "python3"
  },
  "language_info": {
   "codemirror_mode": {
    "name": "ipython",
    "version": 3
   },
   "file_extension": ".py",
   "mimetype": "text/x-python",
   "name": "python",
   "nbconvert_exporter": "python",
   "pygments_lexer": "ipython3",
   "version": "3.7.9"
  }
 },
 "nbformat": 4,
 "nbformat_minor": 5
}
